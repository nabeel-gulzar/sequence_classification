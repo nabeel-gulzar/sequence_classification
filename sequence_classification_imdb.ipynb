{
  "nbformat": 4,
  "nbformat_minor": 0,
  "metadata": {
    "colab": {
      "name": "sequence_classification_imdb.ipynb",
      "provenance": [],
      "collapsed_sections": [],
      "include_colab_link": true
    },
    "kernelspec": {
      "name": "python3",
      "display_name": "Python 3"
    },
    "language_info": {
      "name": "python"
    }
  },
  "cells": [
    {
      "cell_type": "markdown",
      "metadata": {
        "id": "view-in-github",
        "colab_type": "text"
      },
      "source": [
        "<a href=\"https://colab.research.google.com/github/nabeel-gulzar/sequence_classification/blob/main/sequence_classification_imdb.ipynb\" target=\"_parent\"><img src=\"https://colab.research.google.com/assets/colab-badge.svg\" alt=\"Open In Colab\"/></a>"
      ]
    },
    {
      "cell_type": "markdown",
      "metadata": {
        "id": "3khSDdreE1qs"
      },
      "source": [
        "# Sequence Classification with LSTM\n",
        "\n",
        "https://machinelearningmastery.com/how-to-make-classification-and-regression-predictions-for-deep-learning-models-in-keras/"
      ]
    },
    {
      "cell_type": "code",
      "metadata": {
        "id": "VEf3GSpgE01D"
      },
      "source": [
        "# LSTM and CNN for sequence classification in the IMDB dataset\n",
        "import numpy\n",
        "from keras.datasets import imdb\n",
        "from keras.models import Sequential\n",
        "from keras.layers import Dense\n",
        "from keras.layers import LSTM\n",
        "from keras.layers.convolutional import Conv1D\n",
        "from keras.layers.convolutional import MaxPooling1D\n",
        "from keras.layers.embeddings import Embedding\n",
        "from keras.preprocessing import sequence\n",
        "from keras.layers import Dropout\n"
      ],
      "execution_count": 1,
      "outputs": []
    },
    {
      "cell_type": "code",
      "metadata": {
        "colab": {
          "base_uri": "https://localhost:8080/"
        },
        "id": "DAyWETe0E04H",
        "outputId": "5657dece-6ba4-4146-ef77-1e4fdb3cd049"
      },
      "source": [
        "# fix random seed for reproducibility\n",
        "numpy.random.seed(7)\n",
        "# load the dataset but only keep the top n words, zero the rest\n",
        "top_words = 5000\n",
        "(X_train, y_train), (X_test, y_test) = imdb.load_data(num_words=top_words)\n",
        "# truncate and pad input sequences\n",
        "max_review_length = 500\n",
        "X_train = sequence.pad_sequences(X_train, maxlen=max_review_length)\n",
        "X_test = sequence.pad_sequences(X_test, maxlen=max_review_length)\n"
      ],
      "execution_count": 2,
      "outputs": [
        {
          "output_type": "stream",
          "name": "stdout",
          "text": [
            "Downloading data from https://storage.googleapis.com/tensorflow/tf-keras-datasets/imdb.npz\n",
            "17465344/17464789 [==============================] - 0s 0us/step\n",
            "17473536/17464789 [==============================] - 0s 0us/step\n"
          ]
        }
      ]
    },
    {
      "cell_type": "markdown",
      "metadata": {
        "id": "DeyNNU4UIXWv"
      },
      "source": [
        "+ve: One of the other reviewers has mentioned that after watching just 1 Oz episode you'll be hooked. The...\n",
        "\n",
        "+ve: A wonderful little production. The filming technique is very unassuming- very old-time-B...\n",
        "\n",
        "-ve: Phil the Alien is one of those quirky films where the humour is based around the oddness of everythi...\n",
        "\n",
        "-ve: I saw this movie when I was about 12 when it came out. I recall the scariest scene was the big bird ..."
      ]
    },
    {
      "cell_type": "code",
      "metadata": {
        "colab": {
          "base_uri": "https://localhost:8080/"
        },
        "id": "BmQoHJYUE07U",
        "outputId": "42e00f24-114e-4d1c-ef93-c30c482315c9"
      },
      "source": [
        "# create the model\n",
        "embedding_vecor_length = 32\n",
        "model = Sequential()\n",
        "model.add(Embedding(top_words, embedding_vecor_length, input_length=max_review_length))\n",
        "model.add(Dropout(0.2))\n",
        "model.add(LSTM(100))\n",
        "model.add(Dropout(0.2))\n",
        "model.add(Dense(1, activation='sigmoid'))\n",
        "model.compile(loss='binary_crossentropy', optimizer='adam', metrics=['accuracy'])\n",
        "print(model.summary())\n"
      ],
      "execution_count": 3,
      "outputs": [
        {
          "output_type": "stream",
          "name": "stdout",
          "text": [
            "Model: \"sequential\"\n",
            "_________________________________________________________________\n",
            " Layer (type)                Output Shape              Param #   \n",
            "=================================================================\n",
            " embedding (Embedding)       (None, 500, 32)           160000    \n",
            "                                                                 \n",
            " dropout (Dropout)           (None, 500, 32)           0         \n",
            "                                                                 \n",
            " lstm (LSTM)                 (None, 100)               53200     \n",
            "                                                                 \n",
            " dropout_1 (Dropout)         (None, 100)               0         \n",
            "                                                                 \n",
            " dense (Dense)               (None, 1)                 101       \n",
            "                                                                 \n",
            "=================================================================\n",
            "Total params: 213,301\n",
            "Trainable params: 213,301\n",
            "Non-trainable params: 0\n",
            "_________________________________________________________________\n",
            "None\n"
          ]
        }
      ]
    },
    {
      "cell_type": "code",
      "metadata": {
        "colab": {
          "base_uri": "https://localhost:8080/"
        },
        "id": "pNirWT2WE0-Z",
        "outputId": "dfe6b4de-86e2-40fd-8112-66aa725db7cd"
      },
      "source": [
        "model.fit(X_train, y_train, epochs=3, batch_size=64)\n"
      ],
      "execution_count": 4,
      "outputs": [
        {
          "output_type": "stream",
          "name": "stdout",
          "text": [
            "Epoch 1/3\n",
            "391/391 [==============================] - 149s 377ms/step - loss: 0.5276 - accuracy: 0.7224\n",
            "Epoch 2/3\n",
            "391/391 [==============================] - 147s 376ms/step - loss: 0.2972 - accuracy: 0.8813\n",
            "Epoch 3/3\n",
            "391/391 [==============================] - 147s 376ms/step - loss: 0.2458 - accuracy: 0.9058\n"
          ]
        },
        {
          "output_type": "execute_result",
          "data": {
            "text/plain": [
              "<keras.callbacks.History at 0x7fe8fb0c5750>"
            ]
          },
          "metadata": {},
          "execution_count": 4
        }
      ]
    },
    {
      "cell_type": "code",
      "metadata": {
        "colab": {
          "base_uri": "https://localhost:8080/"
        },
        "id": "CvSwwlj1E1B0",
        "outputId": "f6041be9-db57-4c4f-f3e0-dc2668e33ee4"
      },
      "source": [
        "# Final evaluation of the model\n",
        "scores = model.evaluate(X_test, y_test, verbose=0)\n",
        "print(\"Accuracy: %.2f%%\" % (scores[1]*100))"
      ],
      "execution_count": 5,
      "outputs": [
        {
          "output_type": "stream",
          "name": "stdout",
          "text": [
            "Accuracy: 87.79%\n"
          ]
        }
      ]
    },
    {
      "cell_type": "code",
      "source": [
        "from keras.datasets.imdb import get_word_index"
      ],
      "metadata": {
        "id": "o5FUBYmYX6iV"
      },
      "execution_count": 8,
      "outputs": []
    },
    {
      "cell_type": "code",
      "source": [
        "word_to_id = get_word_index()\n",
        "word_to_id = {k:(v+3) for k,v in word_to_id.items()}\n",
        "word_to_id[\"\"] = 0\n",
        "word_to_id[\"<START>\"] = 1\n",
        "word_to_id[\"<UNK>\"] = 2\n",
        "word_to_id[\"<UNUSED>\"] = 3\n",
        "\n",
        "id_to_word = {value:key for key,value in word_to_id.items()}"
      ],
      "metadata": {
        "id": "6UM_f6ykX5Xo"
      },
      "execution_count": 9,
      "outputs": []
    },
    {
      "cell_type": "code",
      "metadata": {
        "id": "7AsOUFA6O4dB"
      },
      "source": [
        "ynew = model.predict(X_test[:15])\n",
        "ynew[ynew>0.5] = 1\n",
        "ynew[ynew<=0.5] = 0\n",
        "ynew = ynew.flatten()\n",
        "ynew = ynew.astype('int')"
      ],
      "execution_count": 28,
      "outputs": []
    },
    {
      "cell_type": "code",
      "source": [
        "for i in range(15):\n",
        "  str = \"\"\n",
        "  cnt = 0\n",
        "  for id in X_test[i]:\n",
        "    if cnt > 20:\n",
        "      break\n",
        "    if id > 0:\n",
        "      str += (id_to_word[id])+ \" \"\n",
        "      cnt = cnt + 1      \n",
        "\n",
        "  #print(' '.join(id_to_word[id] for id in X_test[i] ))\n",
        "  print(\"%s\" % str)\n",
        "  print(\"Predicted=%s, True label=%s\\n\" % (ynew[i], y_test[i]))  "
      ],
      "metadata": {
        "colab": {
          "base_uri": "https://localhost:8080/"
        },
        "id": "duFVL0PxYzKG",
        "outputId": "a353c14c-51b6-4ed1-cef5-17cd1c9c4b97"
      },
      "execution_count": 30,
      "outputs": [
        {
          "output_type": "stream",
          "name": "stdout",
          "text": [
            "<START> please give this one a miss br br <UNK> <UNK> and the rest of the cast <UNK> terrible performances the \n",
            "Predicted=0, True label=0\n",
            "\n",
            "<START> this film requires a lot of <UNK> because it focuses on mood and character development the plot is very simple \n",
            "Predicted=1, True label=1\n",
            "\n",
            "at a time when motion picture animation of all sorts was in its <UNK> br br the political <UNK> of the \n",
            "Predicted=1, True label=1\n",
            "\n",
            "<START> i generally love this type of movie however this time i found myself wanting to kick the screen since i \n",
            "Predicted=0, True label=0\n",
            "\n",
            "<START> like some other people wrote i'm a die hard mario fan and i loved this game br br this game \n",
            "Predicted=1, True label=1\n",
            "\n",
            "<START> i'm absolutely <UNK> this movie isn't being sold all who love this movie should <UNK> disney and <UNK> the demand \n",
            "Predicted=1, True label=1\n",
            "\n",
            "later used by frank <UNK> in mr <UNK> goes to town and meet john <UNK> but in <UNK> no one individual \n",
            "Predicted=1, True label=1\n",
            "\n",
            "<START> the <UNK> richard <UNK> dog is <UNK> to <UNK> joan <UNK> dog however when <UNK> <UNK> <UNK> arrives in town \n",
            "Predicted=0, True label=0\n",
            "\n",
            "<START> hollywood had a long love affair with <UNK> <UNK> nights tales but few of these <UNK> have stood the test \n",
            "Predicted=1, True label=0\n",
            "\n",
            "<START> this film is where the batman franchise ought to have stopped though i will <UNK> that the ideas behind batman \n",
            "Predicted=1, True label=1\n",
            "\n",
            "<START> inspired by <UNK> <UNK> on a train concept of two men <UNK> murders in <UNK> for getting rid of the \n",
            "Predicted=1, True label=1\n",
            "\n",
            "<START> when i first saw this movie in the theater i was so angry it completely blew in my opinion i \n",
            "Predicted=0, True label=0\n",
            "\n",
            "<START> oh dear oh dear it really gets on my <UNK> when a low budget pointless horror affair tries to look \n",
            "Predicted=0, True label=0\n",
            "\n",
            "<START> i started watching this because i thought it was a really <UNK> porno as i kept watching the only thrill \n",
            "Predicted=0, True label=0\n",
            "\n",
            "<START> a touching documentary that puts a human face on the tragedy of 9 11 by showing how one small community \n",
            "Predicted=1, True label=1\n",
            "\n"
          ]
        }
      ]
    }
  ]
}